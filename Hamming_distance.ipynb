{
 "cells": [
  {
   "cell_type": "code",
   "execution_count": 46,
   "metadata": {},
   "outputs": [],
   "source": [
    "from Bio import SeqIO\n",
    "import os\n",
    "import glob\n",
    "import csv\n",
    "import re"
   ]
  },
  {
   "cell_type": "code",
   "execution_count": 412,
   "metadata": {},
   "outputs": [],
   "source": [
    "true_varients = \"/alina-data0/sergey/haploBenchmark/data/cdc_real_reads/HIV1_variant_MIX3_model.fasta\" \n",
    "predicted_varients= \"/alina-data2/sai/ipython_working_dir/cliqueSnv_output/MIX3/\" \n",
    "with open(true_varients) as f: \n",
    "    seqs = []\n",
    "    for s in f: \n",
    "        if s[0] == \">\" or s[0] == ' ' or s[0] == '\\n': \n",
    "            continue \n",
    "        else: \n",
    "            seqs.append(s) \n",
    "\n",
    "with open(predicted_varients) as f: \n",
    "    seqs1 = [] \n",
    "    for s in f: \n",
    "        if s[0] == \">\" or s[0] == ' ' or s[0] == '\\n': \n",
    "            continue \n",
    "        else: seqs1.append(s) \n",
    "\n",
    "\n",
    "\n",
    "\n",
    "\n",
    "    "
   ]
  },
  {
   "cell_type": "code",
   "execution_count": 413,
   "metadata": {},
   "outputs": [
    {
     "name": "stdout",
     "output_type": "stream",
     "text": [
      "2\n",
      "2\n"
     ]
    }
   ],
   "source": [
    "print(len(seqs))\n",
    "print(len(seqs1))"
   ]
  },
  {
   "cell_type": "code",
   "execution_count": 414,
   "metadata": {},
   "outputs": [],
   "source": [
    "# with open('var_freqs.csv', 'w') as csvFile:\n",
    "#             writer = csv.writer(csvFile)\n",
    "#             a= [\"predicted_var_freq\"]\n",
    "#             writer.writerow(a)\n",
    "#             writer.writerow('')\n",
    "f = open('var_freqs.csv', \"w+\")\n",
    "f.close()"
   ]
  },
  {
   "cell_type": "code",
   "execution_count": 415,
   "metadata": {},
   "outputs": [
    {
     "name": "stdout",
     "output_type": "stream",
     "text": [
      "68.13\n",
      "31.87\n"
     ]
    }
   ],
   "source": [
    "with open(predicted_varients) as f:\n",
    "    list_freq= []\n",
    "    for s in f:\n",
    "        if s[0] == '>':\n",
    "            list_freq.append(s)\n",
    "#     print(list_freq)\n",
    "    t=0\n",
    "    for i in list_freq:\n",
    "        list_freq1= []\n",
    "        n= i.split('_',-1)\n",
    "#         print(n[2])\n",
    "        k=100*float(n[2])\n",
    "        k=round(k, 2)\n",
    "        list_freq1.insert(t,k)\n",
    "        with open('var_freqs.csv', 'a') as csvFile:\n",
    "            writer = csv.writer(csvFile)\n",
    "            writer.writerow(list_freq1)\n",
    "        t+=1\n",
    "        print(k)\n",
    "#     print(len(list_freq1))"
   ]
  },
  {
   "cell_type": "code",
   "execution_count": 416,
   "metadata": {},
   "outputs": [],
   "source": [
    "def hamming_distance(string1, string2): \n",
    "    # Start with a distance of zero, and count up\n",
    "    distance = 0\n",
    "    # Loop over the indices of the string\n",
    "    L = len(string1)\n",
    "    for i in range(L):\n",
    "        # Add 1 to the distance if these two characters are not equal\n",
    "        if string1[i] != string2[i]:\n",
    "            distance += 1\n",
    "        \n",
    "    # Return the final count of differences\n",
    "#     print(string1)\n",
    "#     print(string2)\n",
    "#     print(distance)\n",
    "#     print(len(string1), len(string2))\n",
    "    return distance\n"
   ]
  },
  {
   "cell_type": "code",
   "execution_count": 417,
   "metadata": {},
   "outputs": [],
   "source": [
    "import csv\n",
    "row1 = ['Var A','Var B','Var C','Var D','Var E','Var F','Var G','Var H','Var J']\n",
    "with open('hamming_dist.csv', 'w') as csvFile:\n",
    "    writer = csv.writer(csvFile)\n",
    "    writer.writerow(row1)\n",
    "csvFile.close()\n",
    "\n",
    "# import csv\n",
    "# row2 = [50, 25,12.5,6.3,3.2,1.6,0.8,0.4,0.2]\n",
    "# with open('hamming_dist.csv', 'a') as csvFile:\n",
    "#     writer = csv.writer(csvFile)\n",
    "#     writer.writerow(row2)\n",
    "# csvFile.close()\n"
   ]
  },
  {
   "cell_type": "code",
   "execution_count": 418,
   "metadata": {},
   "outputs": [
    {
     "name": "stdout",
     "output_type": "stream",
     "text": [
      "[13, 2]\n",
      "[2, 13]\n"
     ]
    }
   ],
   "source": [
    "\n",
    "ha=[]\n",
    "for i in seqs1:\n",
    "    arr = []\n",
    "    for j in seqs:\n",
    "        h = hamming_distance(i.strip(), j.strip())\n",
    "#             spamwriter.writerow(arr)\n",
    "        arr.append(h)\n",
    "    ha.append(arr)\n",
    "    print(arr)\n",
    "    \n",
    "# print(ha)"
   ]
  },
  {
   "cell_type": "code",
   "execution_count": 419,
   "metadata": {},
   "outputs": [],
   "source": [
    "\n",
    "import csv\n",
    "csvData = ha\n",
    "with open('hamming_dist.csv', 'a') as csvFile:\n",
    "    writer = csv.writer(csvFile)\n",
    "    writer.writerows(csvData)\n",
    "csvFile.close()\n"
   ]
  },
  {
   "cell_type": "code",
   "execution_count": 420,
   "metadata": {},
   "outputs": [
    {
     "name": "stdout",
     "output_type": "stream",
     "text": [
      "['Var A', 'Var B', 'Var C', 'Var D', 'Var E', 'Var F', 'Var G', 'Var H', 'Var J']\n"
     ]
    }
   ],
   "source": [
    "arr = [\"Var A\",\"Var B\",\"Var C\",\"Var D\",\"Var E\",\"Var F\",\"Var G\", \"Var H\",\"Var J\"]\n",
    "print(arr)"
   ]
  },
  {
   "cell_type": "code",
   "execution_count": 421,
   "metadata": {},
   "outputs": [],
   "source": [
    "f = open('file1.csv', \"w+\")\n",
    "f.close()"
   ]
  },
  {
   "cell_type": "code",
   "execution_count": 422,
   "metadata": {},
   "outputs": [
    {
     "name": "stdout",
     "output_type": "stream",
     "text": [
      "<class 'pandas.core.frame.DataFrame'>\n",
      "[[13.  2. nan nan nan nan nan nan nan]\n",
      " [ 2. 13. nan nan nan nan nan nan nan]]\n",
      "[2.0, 'Var B']\n",
      " \n",
      " \n",
      "[2.0, 'Var A']\n",
      " \n",
      " \n"
     ]
    }
   ],
   "source": [
    "import pandas as pd\n",
    "import numpy as np\n",
    "import csv\n",
    "\n",
    "reviews = pd.read_csv(\"hamming_dist.csv\")\n",
    "print(type(reviews))\n",
    "print(reviews.values)\n",
    "\n",
    "k = len(reviews.values)\n",
    "\n",
    "\n",
    "for i in range(k):\n",
    "    min_val = 20\n",
    "    min_index = -1\n",
    "    length = len(reviews.values[i])\n",
    "    \n",
    "    li = list()\n",
    "    for j in range(length):\n",
    "#         print(reviews.values[i][j])\n",
    "       \n",
    "        if(min_val > reviews.values[i][j]):\n",
    "            min_val = reviews.values[i][j]\n",
    "            min_index = j\n",
    "            a = min_val.tolist()\n",
    "    li.append(a)\n",
    "    li.append(arr[min_index])\n",
    "    print(li)\n",
    "    print(' ')\n",
    "    print(' ')\n",
    "#     print(li)\n",
    "#     print(min_val, arr[min_index])\n",
    "    \n",
    "    with open('file1.csv', 'a') as f:\n",
    "        writer = csv.writer(f)\n",
    "        writer.writerow(li)\n",
    "\n",
    "\n",
    "\n",
    "\n"
   ]
  },
  {
   "cell_type": "code",
   "execution_count": 423,
   "metadata": {},
   "outputs": [
    {
     "name": "stdout",
     "output_type": "stream",
     "text": [
      "[['2.0', 'Var B'], ['2.0', 'Var A']] [['68.13'], ['31.87']]\n"
     ]
    }
   ],
   "source": [
    "import csv\n",
    "with open('file1.csv', 'r') as f1, open('var_freqs.csv', 'r') as f2:\n",
    "    reader1 = csv.reader(f1)\n",
    "    your_list1 = list(reader1)\n",
    "    reader2 = csv.reader(f2)\n",
    "    your_list2 = list(reader2)\n",
    "print(your_list1,your_list2)"
   ]
  },
  {
   "cell_type": "code",
   "execution_count": 424,
   "metadata": {},
   "outputs": [],
   "source": [
    "f = open('combined.csv', \"w+\")\n",
    "f.close()"
   ]
  },
  {
   "cell_type": "code",
   "execution_count": 425,
   "metadata": {},
   "outputs": [
    {
     "name": "stdout",
     "output_type": "stream",
     "text": [
      "['2.0', 'Var B', '68.13']\n",
      "['2.0', 'Var A', '31.87']\n"
     ]
    }
   ],
   "source": [
    "import csv\n",
    "with open('file1.csv', 'r') as f1, open('var_freqs.csv', 'r') as f2:\n",
    "    reader1 = csv.reader(f1)\n",
    "    your_list1 = list(reader1)\n",
    "    reader2 = csv.reader(f2)\n",
    "    your_list2 = list(reader2)\n",
    "    \n",
    "    j=0\n",
    "    with open('combined.csv', 'a') as f3:\n",
    "        writer = csv.writer(f3)\n",
    "        your_list3 = list\n",
    "        for i in range(len(your_list1)):\n",
    "            your_list1[i].append(your_list2[j][0])\n",
    "            your_list3 = your_list1[i]\n",
    "            print(your_list3)\n",
    "            j+=1\n",
    "            writer.writerow(your_list3)"
   ]
  },
  {
   "cell_type": "code",
   "execution_count": null,
   "metadata": {},
   "outputs": [],
   "source": []
  },
  {
   "cell_type": "code",
   "execution_count": null,
   "metadata": {},
   "outputs": [],
   "source": []
  },
  {
   "cell_type": "code",
   "execution_count": null,
   "metadata": {},
   "outputs": [],
   "source": []
  },
  {
   "cell_type": "code",
   "execution_count": null,
   "metadata": {},
   "outputs": [],
   "source": []
  },
  {
   "cell_type": "code",
   "execution_count": null,
   "metadata": {},
   "outputs": [],
   "source": []
  }
 ],
 "metadata": {
  "kernelspec": {
   "display_name": "Python 3",
   "language": "python",
   "name": "python3"
  },
  "language_info": {
   "codemirror_mode": {
    "name": "ipython",
    "version": 3
   },
   "file_extension": ".py",
   "mimetype": "text/x-python",
   "name": "python",
   "nbconvert_exporter": "python",
   "pygments_lexer": "ipython3",
   "version": "3.5.2"
  }
 },
 "nbformat": 4,
 "nbformat_minor": 2
}
